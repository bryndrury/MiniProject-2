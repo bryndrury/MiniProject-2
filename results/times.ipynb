{
 "cells": [
  {
   "cell_type": "code",
   "execution_count": null,
   "metadata": {},
   "outputs": [],
   "source": [
    "import pandas as pd\n",
    "df = pd.read_csv(\"times.txt\", sep=\"\\t\", index_col=0)"
   ]
  },
  {
   "cell_type": "code",
   "execution_count": 34,
   "metadata": {},
   "outputs": [],
   "source": [
    "original_times = df[\"Time\"][df[\"Implementation\"]==0]            # 0 is the original implementation\n",
    "upcomp_distributed_times = df[\"Time\"][df[\"Implementation\"]==1]  # 1 is the distributed implementation without compression\n",
    "comp_distributed_times = df[\"Time\"][df[\"Implementation\"]==2]    # 2 is the distributed implementation with compression\n",
    "\n",
    "ogm = original_times.mean()\n",
    "ogs = original_times.std()\n",
    "\n",
    "udtm = upcomp_distributed_times.mean()\n",
    "udts = upcomp_distributed_times.std()\n",
    "\n",
    "cdtm = comp_distributed_times.mean()\n",
    "cdts = comp_distributed_times.std()"
   ]
  },
  {
   "cell_type": "code",
   "execution_count": 35,
   "metadata": {},
   "outputs": [
    {
     "name": "stdout",
     "output_type": "stream",
     "text": [
      "Original implementation: \t\t\tmean = 18.20s, std = 1.31s\n",
      "Distributed implementation without compression: mean = 20.03s, std = 1.07s\n",
      "Distributed implementation with compression: \tmean = 29.11s, std = 1.36s\n"
     ]
    }
   ],
   "source": [
    "print(\"Original implementation: \\t\\t\\tmean = {:.2f}s, std = {:.2f}s\".format(ogm, ogs))\n",
    "print(\"Distributed implementation without compression: mean = {:.2f}s, std = {:.2f}s\".format(udtm, udts))\n",
    "print(\"Distributed implementation with compression: \\tmean = {:.2f}s, std = {:.2f}s\".format(cdtm, cdts))"
   ]
  }
 ],
 "metadata": {
  "kernelspec": {
   "display_name": "CloudTech",
   "language": "python",
   "name": "python3"
  },
  "language_info": {
   "codemirror_mode": {
    "name": "ipython",
    "version": 3
   },
   "file_extension": ".py",
   "mimetype": "text/x-python",
   "name": "python",
   "nbconvert_exporter": "python",
   "pygments_lexer": "ipython3",
   "version": "3.11.8"
  }
 },
 "nbformat": 4,
 "nbformat_minor": 2
}
